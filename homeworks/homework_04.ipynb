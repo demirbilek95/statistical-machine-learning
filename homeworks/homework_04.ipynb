{
 "cells": [
  {
   "cell_type": "markdown",
   "metadata": {},
   "source": [
    "### Exercise 1\n",
    "\n",
    "Let $\\theta_1$ and $\\theta_2$ be real valued parameters of the model\n",
    "\n",
    "$$\n",
    "y = \\frac{\\theta_1 x}{\\theta_2 + x}.\n",
    "$$\n",
    "\n",
    "a. Choose two suitable prior distributions for $\\theta_1$ and $\\theta_2$  and use HMC algorithm to find their posterior distributions, conditioning on the observations\n",
    "\n",
    "$$\n",
    "x=(28,55,110,138,225,375)\\\\\n",
    "y=(0.053,0.060,0.112,0.105,0.099,0.122).\n",
    "$$\n",
    "\n",
    "b. Discuss how different parameters for both priors and the HMC algorithm lead to different estimates. \n",
    "\n",
    "c. Plot the most reliable posterior distributions, according to convergence checks on the traces."
   ]
  },
  {
   "cell_type": "code",
   "execution_count": 95,
   "metadata": {},
   "outputs": [],
   "source": [
    "import numpy as np\n",
    "import matplotlib.pyplot as plt\n",
    "import torch\n",
    "import pyro\n",
    "import pyro.distributions as dist\n",
    "from pyro.infer.mcmc import MCMC, HMC, NUTS"
   ]
  },
  {
   "cell_type": "code",
   "execution_count": 96,
   "metadata": {},
   "outputs": [],
   "source": [
    "def model(obs_x = torch.tensor([(28,55,110,138,225,375)])):\n",
    "    \n",
    "    # Suitable prior distribution with mean 0 and variance 1\n",
    "    theta1 = pyro.sample(\"theta1\", dist.Normal(0,1)) \n",
    "    theta2 = pyro.sample(\"theta2\", dist.Normal(0,1))\n",
    "    \n",
    "    # Calculated y variable\n",
    "    y = pyro.param(\"y\", (theta1*obs_x)/ (theta2+obs_x))\n",
    "    \n",
    "    return y"
   ]
  },
  {
   "cell_type": "code",
   "execution_count": 97,
   "metadata": {},
   "outputs": [],
   "source": [
    "def conditioned_model(obs, obs_x = torch.tensor([(28,55,110,138,225,375)])):\n",
    "    \n",
    "    # Suitable prior distribution with mean 0 and variance 1\n",
    "    theta1 = pyro.sample(\"theta1\", dist.Normal(0,1)) \n",
    "    theta2 = pyro.sample(\"theta2\", dist.Normal(0,1))\n",
    "    \n",
    "    # Calculated y variable\n",
    "    y = pyro.param(\"y\", (theta1*obs_x)/ (theta2+obs_x), obs = obs)\n",
    "    \n",
    "    return y"
   ]
  },
  {
   "cell_type": "code",
   "execution_count": 101,
   "metadata": {},
   "outputs": [],
   "source": [
    "!ulimit -n 2048"
   ]
  },
  {
   "cell_type": "code",
   "execution_count": 102,
   "metadata": {},
   "outputs": [
    {
     "name": "stderr",
     "output_type": "stream",
     "text": [
      "Exception in thread Thread-21:\n",
      "Traceback (most recent call last):\n",
      "  File \"/home/john/anaconda3/lib/python3.7/threading.py\", line 926, in _bootstrap_inner\n",
      "    self.run()\n",
      "  File \"/home/john/anaconda3/lib/python3.7/threading.py\", line 870, in run\n",
      "    self._target(*self._args, **self._kwargs)\n",
      "  File \"/home/john/anaconda3/lib/python3.7/site-packages/pyro/infer/mcmc/mcmc.py\", line 28, in logger_thread\n",
      "    progress_bars = ProgressBar(warmup_steps, num_samples, disable=disable_progbar, num_bars=num_chains)\n",
      "  File \"/home/john/anaconda3/lib/python3.7/site-packages/pyro/infer/mcmc/logger.py\", line 69, in __init__\n",
      "    position=i, file=sys.stderr, disable=disable)\n",
      "  File \"/home/john/anaconda3/lib/python3.7/site-packages/tqdm/notebook.py\", line 194, in __init__\n",
      "    kwargs['bar_format'] = kwargs['bar_format'].replace('{bar}', '<bar/>')\n",
      "AttributeError: 'NoneType' object has no attribute 'replace'\n",
      "\n",
      "Exception ignored in: <function tqdm.__del__ at 0x7ff6bbb70f80>\n",
      "Traceback (most recent call last):\n",
      "  File \"/home/john/anaconda3/lib/python3.7/site-packages/tqdm/std.py\", line 1077, in __del__\n",
      "    self.close()\n",
      "  File \"/home/john/anaconda3/lib/python3.7/site-packages/tqdm/notebook.py\", line 236, in close\n",
      "    super(tqdm_notebook, self).close(*args, **kwargs)\n",
      "  File \"/home/john/anaconda3/lib/python3.7/site-packages/tqdm/std.py\", line 1252, in close\n",
      "    if self.disable:\n",
      "AttributeError: 'tqdm_notebook' object has no attribute 'disable'\n"
     ]
    },
    {
     "ename": "AttributeError",
     "evalue": "'MCMC' object has no attribute 'summary'",
     "output_type": "error",
     "traceback": [
      "\u001b[0;31m---------------------------------------------------------------------------\u001b[0m",
      "\u001b[0;31mAttributeError\u001b[0m                            Traceback (most recent call last)",
      "\u001b[0;32m<ipython-input-102-dea6c5c813d0>\u001b[0m in \u001b[0;36m<module>\u001b[0;34m\u001b[0m\n\u001b[1;32m     11\u001b[0m \u001b[0;31m#print(mcmc.get_samples().keys())\u001b[0m\u001b[0;34m\u001b[0m\u001b[0;34m\u001b[0m\u001b[0;34m\u001b[0m\u001b[0m\n\u001b[1;32m     12\u001b[0m \u001b[0;34m\u001b[0m\u001b[0m\n\u001b[0;32m---> 13\u001b[0;31m \u001b[0mmcmc\u001b[0m\u001b[0;34m.\u001b[0m\u001b[0msummary\u001b[0m\u001b[0;34m(\u001b[0m\u001b[0;34m)\u001b[0m\u001b[0;34m\u001b[0m\u001b[0;34m\u001b[0m\u001b[0m\n\u001b[0m",
      "\u001b[0;31mAttributeError\u001b[0m: 'MCMC' object has no attribute 'summary'"
     ]
    }
   ],
   "source": [
    "hmc_kernel = HMC(model=conditioned_model) # transition kernel\n",
    "mcmc = MCMC(hmc_kernel, num_samples=500, warmup_steps=1000, num_chains=3)\n",
    "\n",
    "# y observations\n",
    "obs = torch.tensor([0.053,0.060,0.112,0.105,0.099,0.122])\n",
    "\n",
    "# posteriors \n",
    "posterior = mcmc.run(obs = obs)\n",
    "\n",
    "# dictionary of sampled values\n",
    "#print(mcmc.get_samples().keys())\n",
    "\n",
    "mcmc.summary()"
   ]
  },
  {
   "cell_type": "markdown",
   "metadata": {},
   "source": [
    "### Exercise 2\n",
    "\n",
    "A bivariate Gibbs sampler for a vector $x=(x_1,x_2)$ draws iteratively from the posterior conditional distributions in the following way:\n",
    "- choose a starting value $p(x_1|x_2^{(0)})$\n",
    "- for each iteration $i$:\n",
    "    - draw $x_2(i)$ from $p(x_2|x_1^{(i-1)})$\n",
    "    - draw $x_1(i)$ from $p(x_1|x_2^{(i)})$"
   ]
  },
  {
   "cell_type": "markdown",
   "metadata": {},
   "source": [
    "a. Supposing that samples are drawn from a bivariate normal distribution\n",
    "\n",
    "$$\n",
    "{x_1 \\choose x_2} \\sim \\mathcal{N} \\Bigg[ {0 \\choose 0} , \\begin{pmatrix} 1 & \\rho \\\\ \\rho & 1 \\end{pmatrix} \\Bigg],\n",
    "$$\n",
    "    implement a Gibbs sampler for $x$ which takes as inputs the number of iterations `iters` and the number of warmup draws `warmup`.\n",
    "\n",
    "b. Use your implementation of Gibbs sampler to infer the parameters $\\theta=(\\theta_1,\\theta_2)$ from **Exercise 1**."
   ]
  },
  {
   "cell_type": "code",
   "execution_count": null,
   "metadata": {},
   "outputs": [],
   "source": []
  }
 ],
 "metadata": {
  "kernelspec": {
   "display_name": "Python 3",
   "language": "python",
   "name": "python3"
  },
  "language_info": {
   "codemirror_mode": {
    "name": "ipython",
    "version": 3
   },
   "file_extension": ".py",
   "mimetype": "text/x-python",
   "name": "python",
   "nbconvert_exporter": "python",
   "pygments_lexer": "ipython3",
   "version": "3.7.7"
  }
 },
 "nbformat": 4,
 "nbformat_minor": 4
}
