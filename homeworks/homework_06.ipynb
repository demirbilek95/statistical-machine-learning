{
 "cells": [
  {
   "cell_type": "markdown",
   "metadata": {},
   "source": [
    "## Exercise 1\n",
    "\n",
    "Poisson regression is a Generalized Linear Model, used to model count data. It takes the form\n",
    "\n",
    "$$\\mathbb{E}(\\mu|x)=\\exp(w_1\\,x_1+\\ldots+w_k\\,x_k+b),$$\n",
    "\n",
    "where the observed counts $y$ are drawn from a Poisson distribution on the expected counts: \n",
    "\n",
    "$$y_i \\sim \\text{Poisson}(\\mu_i).$$\n",
    "\n",
    "1. Download and import Load the smoking dataset from: [https://data.princeton.edu/wws509/datasets/#smoking](https://data.princeton.edu/wws509/datasets/#smoking). Then perform a train-test split on the data;\n"
   ]
  },
  {
   "cell_type": "code",
   "execution_count": 546,
   "metadata": {},
   "outputs": [],
   "source": [
    "%reset -f\n",
    "import numpy as np\n",
    "import pandas as pd\n",
    "\n",
    "import pyro\n",
    "import pyro.distributions as dist\n",
    "import pyro.optim as optim\n",
    "pyro.clear_param_store()\n",
    "\n",
    "from pyro.infer import SVI, Trace_ELBO\n",
    "from pyro.infer import Predictive\n",
    "\n",
    "import torch\n",
    "import torch.distributions.constraints as constraints\n",
    "\n",
    "from sklearn.model_selection import train_test_split\n",
    "from sklearn.preprocessing import MinMaxScaler\n",
    "import seaborn as sns\n",
    "\n",
    "pyro.set_rng_seed(42)"
   ]
  },
  {
   "cell_type": "code",
   "execution_count": 547,
   "metadata": {},
   "outputs": [
    {
     "data": {
      "text/html": [
       "<div>\n",
       "<style scoped>\n",
       "    .dataframe tbody tr th:only-of-type {\n",
       "        vertical-align: middle;\n",
       "    }\n",
       "\n",
       "    .dataframe tbody tr th {\n",
       "        vertical-align: top;\n",
       "    }\n",
       "\n",
       "    .dataframe thead th {\n",
       "        text-align: right;\n",
       "    }\n",
       "</style>\n",
       "<table border=\"1\" class=\"dataframe\">\n",
       "  <thead>\n",
       "    <tr style=\"text-align: right;\">\n",
       "      <th></th>\n",
       "      <th>Age_Group</th>\n",
       "      <th>Smoking_Status</th>\n",
       "      <th>Population</th>\n",
       "      <th>Deaths</th>\n",
       "    </tr>\n",
       "  </thead>\n",
       "  <tbody>\n",
       "    <tr>\n",
       "      <th>1</th>\n",
       "      <td>40-44</td>\n",
       "      <td>no</td>\n",
       "      <td>656</td>\n",
       "      <td>18</td>\n",
       "    </tr>\n",
       "    <tr>\n",
       "      <th>2</th>\n",
       "      <td>45-59</td>\n",
       "      <td>no</td>\n",
       "      <td>359</td>\n",
       "      <td>22</td>\n",
       "    </tr>\n",
       "    <tr>\n",
       "      <th>3</th>\n",
       "      <td>50-54</td>\n",
       "      <td>no</td>\n",
       "      <td>249</td>\n",
       "      <td>19</td>\n",
       "    </tr>\n",
       "    <tr>\n",
       "      <th>4</th>\n",
       "      <td>55-59</td>\n",
       "      <td>no</td>\n",
       "      <td>632</td>\n",
       "      <td>55</td>\n",
       "    </tr>\n",
       "    <tr>\n",
       "      <th>5</th>\n",
       "      <td>60-64</td>\n",
       "      <td>no</td>\n",
       "      <td>1067</td>\n",
       "      <td>117</td>\n",
       "    </tr>\n",
       "  </tbody>\n",
       "</table>\n",
       "</div>"
      ],
      "text/plain": [
       "  Age_Group Smoking_Status  Population  Deaths\n",
       "1     40-44             no         656      18\n",
       "2     45-59             no         359      22\n",
       "3     50-54             no         249      19\n",
       "4     55-59             no         632      55\n",
       "5     60-64             no        1067     117"
      ]
     },
     "execution_count": 547,
     "metadata": {},
     "output_type": "execute_result"
    }
   ],
   "source": [
    "# reading data\n",
    "data = pd.read_csv(\"https://data.princeton.edu/wws509/datasets/smoking.dat\",sep=\"\\s+\")\n",
    "data.columns = [\"Age_Group\",\"Smoking_Status\",\"Population\",\"Deaths\"]\n",
    "data.head()"
   ]
  },
  {
   "cell_type": "markdown",
   "metadata": {},
   "source": [
    "I used one hot encoding for categorical variables because there is no order in categorical variables and using label encoder may manipulate the result of regression analysis."
   ]
  },
  {
   "cell_type": "code",
   "execution_count": 548,
   "metadata": {},
   "outputs": [
    {
     "name": "stdout",
     "output_type": "stream",
     "text": [
      "<class 'pandas.core.frame.DataFrame'>\n",
      "Int64Index: 36 entries, 1 to 36\n",
      "Data columns (total 15 columns):\n",
      " #   Column                         Non-Null Count  Dtype\n",
      "---  ------                         --------------  -----\n",
      " 0   Population                     36 non-null     int64\n",
      " 1   Deaths                         36 non-null     int64\n",
      " 2   Age_Group_40-44                36 non-null     uint8\n",
      " 3   Age_Group_45-59                36 non-null     uint8\n",
      " 4   Age_Group_50-54                36 non-null     uint8\n",
      " 5   Age_Group_55-59                36 non-null     uint8\n",
      " 6   Age_Group_60-64                36 non-null     uint8\n",
      " 7   Age_Group_65-69                36 non-null     uint8\n",
      " 8   Age_Group_70-74                36 non-null     uint8\n",
      " 9   Age_Group_75-79                36 non-null     uint8\n",
      " 10  Age_Group_80+                  36 non-null     uint8\n",
      " 11  Smoking_Status_cigarPipeOnly   36 non-null     uint8\n",
      " 12  Smoking_Status_cigarretteOnly  36 non-null     uint8\n",
      " 13  Smoking_Status_cigarrettePlus  36 non-null     uint8\n",
      " 14  Smoking_Status_no              36 non-null     uint8\n",
      "dtypes: int64(2), uint8(13)\n",
      "memory usage: 1.3 KB\n"
     ]
    }
   ],
   "source": [
    "# use one hot encoding for categorical variables\n",
    "data = pd.get_dummies(data)\n",
    "data.info()"
   ]
  },
  {
   "cell_type": "code",
   "execution_count": 549,
   "metadata": {},
   "outputs": [],
   "source": [
    "# scale the population since it dominates the predictors  * X\n",
    "scaler = MinMaxScaler()\n",
    "data[\"Population\"] = scaler.fit_transform(pd.DataFrame(data[\"Population\"]))"
   ]
  },
  {
   "cell_type": "markdown",
   "metadata": {},
   "source": [
    "Now we perform a train-test split on the data:\n",
    "- **train data** - 80% of the observations will be used to perfom inference on our model\n",
    "- **test data** - the remaining 20% will be used for testing the correctness of posterior predictions "
   ]
  },
  {
   "cell_type": "code",
   "execution_count": 550,
   "metadata": {},
   "outputs": [],
   "source": [
    "deaths = torch.tensor(data[\"Deaths\"].values, dtype=torch.float)\n",
    "predictors = torch.stack([torch.tensor(data[column].values,dtype=torch.float) \n",
    "                            for column in data.columns if column != \"Deaths\"],1)"
   ]
  },
  {
   "cell_type": "code",
   "execution_count": 551,
   "metadata": {},
   "outputs": [
    {
     "name": "stdout",
     "output_type": "stream",
     "text": [
      "X_train.shape = torch.Size([28, 14]) \n",
      "y_train.shape = torch.Size([28])\n",
      "\n",
      "X_test.shape = torch.Size([8, 14]) \n",
      "y_test.shape = torch.Size([8])\n"
     ]
    }
   ],
   "source": [
    "X_train, X_test, y_train, y_test = train_test_split(predictors, deaths, test_size=0.20, \n",
    "                                                    random_state=42,shuffle=True)\n",
    "\n",
    "print(\"X_train.shape =\", X_train.shape,\"\\ny_train.shape =\", y_train.shape)\n",
    "print(\"\\nX_test.shape =\", X_test.shape,\"\\ny_test.shape =\", y_test.shape)"
   ]
  },
  {
   "cell_type": "markdown",
   "metadata": {},
   "source": [
    "2. Fit a Poisson bayesian regression model using the number of deaths as the response variable and the other columns as the explanatory variables;"
   ]
  },
  {
   "cell_type": "markdown",
   "metadata": {},
   "source": [
    "The target variable in our model is the number of deaths and we wish to infer the parameters corresponding to the following predictors\n",
    "\n",
    "\\begin{align*}\n",
    "\\text{Deaths}=\\text{exp}(w_0.\\text{Age_Group}+w_1.\\text{Smoking_Status}+w_2.\\text{Population}+b) + \\epsilon\n",
    "\\end{align*}"
   ]
  },
  {
   "cell_type": "markdown",
   "metadata": {},
   "source": [
    "We set a normal prior on $w$, a Log-Normal on the bias term $b$ and a uniformly distributed std for the gaussian noise on $\\hat{y}$\n",
    "\n",
    "\\begin{align*}\n",
    "w&\\sim\\mathcal{N}(0,1)\\\\\n",
    "b&\\sim\\text{LogNormal}(0,1)\\\\\n",
    "\\hat{\\mu}&= \\text{exp}(w x+ b) \\\\\n",
    "y &\\sim \\text{Poisson}(\\hat{\\mu}).\n",
    "\\end{align*}\n",
    "\n",
    "Then we define the family of posterior distributions, by setting a Gamma distribution on $w$ and a Log-Normal on $b$, and run SVI inference on $(x,y)$ data.\n",
    "\n",
    "Notice the prior distribution on the bias term makes this regression problem analytically intractable."
   ]
  },
  {
   "cell_type": "code",
   "execution_count": 552,
   "metadata": {},
   "outputs": [
    {
     "name": "stdout",
     "output_type": "stream",
     "text": [
      "Step 0 : loss = 217895.35066302758\n",
      "Step 100 : loss = 3383911439229.7007\n",
      "Step 200 : loss = 1411479.4769667494\n",
      "Step 300 : loss = 1118.7773887770516\n",
      "Step 400 : loss = 37302.596219633306\n",
      "Step 500 : loss = 90550.50495592186\n",
      "Step 600 : loss = 3510677.8439829606\n",
      "Step 700 : loss = 108318219136.47739\n",
      "Step 800 : loss = 623256735.4375366\n",
      "Step 900 : loss = 430.7892849275044\n",
      "Step 1000 : loss = 11438910790531.85\n",
      "Step 1100 : loss = 814.2677540949413\n",
      "Step 1200 : loss = 1862.99787238666\n",
      "Step 1300 : loss = 1565471.531037603\n",
      "Step 1400 : loss = 1294.398164476667\n",
      "Step 1500 : loss = 21855.950535433632\n",
      "Step 1600 : loss = 1752.1302978651863\n",
      "Step 1700 : loss = 4.0800620540319803e+24\n",
      "Step 1800 : loss = 2177726.2398586953\n",
      "Step 1900 : loss = 189714.59514348846\n"
     ]
    }
   ],
   "source": [
    "pyro.clear_param_store()\n",
    "def death_model(predictors, deaths):\n",
    "    \n",
    "    n_observations, n_predictors = predictors.shape\n",
    "    \n",
    "    # sample weights\n",
    "    w = pyro.sample(\"w\", dist.Normal(torch.zeros(n_predictors), \n",
    "                                        torch.ones(n_predictors)))\n",
    "    b = pyro.sample(\"b\", dist.LogNormal(torch.zeros(1), torch.ones(1)))\n",
    "    \n",
    "    mu_hat = torch.exp((w*predictors).sum(dim=1) + b)\n",
    "    \n",
    "    # condition on the observations\n",
    "    with pyro.plate(\"deaths\", len(deaths)):\n",
    "        pyro.sample(\"obs\", dist.Poisson(mu_hat), obs=deaths)\n",
    "        \n",
    "def death_guide(predictors, deaths=None):\n",
    "    \n",
    "    n_observations, n_predictors = predictors.shape\n",
    "        \n",
    "    w_loc = pyro.param(\"w_loc\", torch.rand(n_predictors), constraint=constraints.positive)\n",
    "    w_scale = pyro.param(\"w_scale\", torch.rand(n_predictors), \n",
    "                         constraint=constraints.positive)\n",
    "    \n",
    "    w = pyro.sample(\"w\", dist.Gamma(w_loc, w_scale))\n",
    "    \n",
    "    b_loc = pyro.param(\"b_loc\", torch.rand(1))\n",
    "    b_scale = pyro.param(\"b_scale\", torch.rand(1), constraint=constraints.positive)\n",
    "    \n",
    "    b = pyro.sample(\"b\", dist.LogNormal(b_loc, b_scale))\n",
    "    \n",
    "\n",
    "# auto guide most of the time gives better result but for learning purpose\n",
    "# manually defined one will be used, there is no big difference\n",
    "# 321-298 improvement\n",
    "\n",
    "#smokeguide = pyro.infer.autoguide.AutoMultivariateNormal(death_model)\n",
    "    \n",
    "death_svi = SVI(model=death_model, guide=death_guide, \n",
    "              optim=optim.ClippedAdam({'lr' : 0.01}), \n",
    "              loss=Trace_ELBO())\n",
    "\n",
    "for step in range(2000):\n",
    "    loss = death_svi.step(X_train, y_train)/len(X_train)\n",
    "    if step % 100 == 0:\n",
    "        print(f\"Step {step} : loss = {loss}\")\n"
   ]
  },
  {
   "cell_type": "code",
   "execution_count": 553,
   "metadata": {},
   "outputs": [
    {
     "name": "stdout",
     "output_type": "stream",
     "text": [
      "Inferred params: ['w_loc', 'w_scale', 'b_loc', 'b_scale']\n",
      "\n",
      "w_0 = 0.11593594\n",
      "w_1 = 0.10179897\n",
      "w_2 = 0.12004398\n",
      "w_3 = 0.09836756\n",
      "w_4 = 0.18008943\n",
      "w_5 = 0.13515201\n",
      "w_6 = 0.10061953\n",
      "w_7 = 0.09885138\n",
      "w_8 = 0.10401431\n",
      "w_9 = 0.12987916\n",
      "w_10 = 0.80996382\n",
      "w_11 = 1.07109785\n",
      "w_12 = 1.51700020\n",
      "w_13 = 0.91584867\n",
      "b = -11.31038952\n"
     ]
    }
   ],
   "source": [
    "print(\"Inferred params:\", list(pyro.get_param_store().keys()), end=\"\\n\\n\")\n",
    "\n",
    "# w_i and b posterior mean\n",
    "inferred_w = pyro.get_param_store()[\"w_loc\"]\n",
    "inferred_b = pyro.get_param_store()[\"b_loc\"]\n",
    "\n",
    "for i,w in enumerate(inferred_w):\n",
    "    print(f\"w_{i} = {w.item():.8f}\")\n",
    "print(f\"b = {inferred_b.item():.8f}\")"
   ]
  },
  {
   "cell_type": "markdown",
   "metadata": {},
   "source": [
    "**Posterior predictive distribution**\n",
    "\n",
    "We can use the `Predictive` utility class, corresponding to the posterior predictive distribution, to evaluate our model on test data. Here we compute some summary statistics (mean, std and qualtiles) on $100$ samples from the posterior predictive:"
   ]
  },
  {
   "cell_type": "code",
   "execution_count": 554,
   "metadata": {},
   "outputs": [
    {
     "name": "stdout",
     "output_type": "stream",
     "text": [
      "Sampled parameter = w\n",
      "\n",
      "        mean       std            5%           50%        95%\n",
      "0   0.000018  0.000040  1.220487e-15  5.197465e-07   0.000088\n",
      "1   0.000007  0.000021  2.174336e-17  5.698389e-08   0.000033\n",
      "2   0.000010  0.000027  1.863642e-15  4.077608e-07   0.000036\n",
      "3   0.000011  0.000031  2.803844e-16  1.145644e-07   0.000076\n",
      "4   0.006052  0.011038  1.042071e-08  9.302986e-04   0.025521\n",
      "5   0.001546  0.004166  1.535496e-13  2.576341e-05   0.008286\n",
      "6   0.000063  0.000256  2.915269e-15  3.726441e-07   0.000314\n",
      "7   0.000036  0.000118  2.506584e-16  2.196494e-07   0.000169\n",
      "8   0.000092  0.000224  3.132012e-15  1.266955e-06   0.000586\n",
      "9   0.000550  0.001281  1.462001e-13  2.881433e-05   0.003084\n",
      "10  5.998237  6.561357  4.735391e-01  3.803491e+00  19.403400\n",
      "11  6.661482  6.679515  5.774164e-01  4.415251e+00  19.460052\n",
      "12  8.580370  6.622905  7.702938e-01  6.812704e+00  21.563299\n",
      "13  6.609722  7.496481  2.560628e-01  4.449547e+00  20.437329\n",
      "\n",
      "Sampled parameter = b\n",
      "\n",
      "       mean       std        5%       50%       95%\n",
      "0  0.000014  0.000006  0.000006  0.000012  0.000025\n",
      "\n"
     ]
    }
   ],
   "source": [
    "# print latent params quantile information\n",
    "def summary(samples):\n",
    "    stats = {}\n",
    "    for par_name, values in samples.items():\n",
    "        marginal = pd.DataFrame(values)\n",
    "        percentiles=[.05, 0.5, 0.95]\n",
    "        describe = marginal.describe(percentiles).transpose()\n",
    "        stats[par_name] = describe[[\"mean\", \"std\", \"5%\", \"50%\", \"95%\"]]\n",
    "    return stats\n",
    "\n",
    "# define the posterior predictive\n",
    "predictive = Predictive(model=death_model, guide=death_guide, num_samples=100,\n",
    "                        return_sites=(\"w\",\"b\"))\n",
    "\n",
    "# get posterior samples on test data\n",
    "svi_samples = {k: v.detach().numpy() for k, v in predictive(X_test, y_test).items()}\n",
    "\n",
    "# show summary statistics\n",
    "for key, value in summary(svi_samples).items():\n",
    "    print(f\"Sampled parameter = {key}\\n\\n{value}\\n\")"
   ]
  },
  {
   "cell_type": "markdown",
   "metadata": {},
   "source": [
    "\n",
    "3. Evaluate the regression fit on test data using MAE and MSE error metrics."
   ]
  },
  {
   "cell_type": "markdown",
   "metadata": {},
   "source": [
    "The most known metrics for comparing different regression models are the **Mean Absolute Error** (MAE)\n",
    "\n",
    "$$\\frac{1}{n}\\sum_{i=1}^n |y_i - \\hat{y}_i|$$\n",
    "\n",
    "and the **Mean Squared Error** (MSE)\n",
    "\n",
    "$$\\frac{1}{n}\\sum_{i=1}^n (y_i - \\hat{y}_i)^2,$$\n",
    "\n",
    "where $n$ is the number of observations, $y$ are the true values `y_test` and $\\hat{y}$ are the predicted values `y_pred`."
   ]
  },
  {
   "cell_type": "code",
   "execution_count": 555,
   "metadata": {},
   "outputs": [
    {
     "name": "stdout",
     "output_type": "stream",
     "text": [
      "MAE = 321.85369873046875\n",
      "MSE = 168857.0625\n"
     ]
    }
   ],
   "source": [
    "# compute predictions using the inferred paramters\n",
    "y_pred = torch.exp((inferred_w * X_test).sum(1)) + inferred_b\n",
    "\n",
    "print(\"MAE =\", torch.nn.L1Loss()(y_test, y_pred).item())\n",
    "print(\"MSE =\", torch.nn.MSELoss()(y_test, y_pred).item())"
   ]
  },
  {
   "cell_type": "markdown",
   "metadata": {},
   "source": [
    "## Exercise 2\n",
    "\n",
    "The Iris dataset contains petal and sepal length and width for three different types of Iris flowers: Setosa, Versicolour, and Virginica."
   ]
  },
  {
   "cell_type": "markdown",
   "metadata": {},
   "source": [
    "To be able to use logistic regression for multiclass problem, I found several strategies. Belove you can find the explanations of them.\n",
    "\n",
    "First one is **converting Bernoulli to Categorical distribution (given hint)** and inferring w,b for each classes. In this method maximum probability is chosen from the result of $e^{w.x + b}$ matrix. You can find the result of this methods belove.\n",
    "\n",
    "Also I tried to use softmax function instead of sigmoid but most probably because of mistake in one of the step I got wrong results. That is why I kept using sigmoid function. Lastly I tried also one vs all strategy. Although this strategy worked, it didn't give me good result for class-wise accuracy. Therefore these methods weren't implemented.\n"
   ]
  },
  {
   "cell_type": "markdown",
   "metadata": {},
   "source": [
    "1. Import the Iris dataset from `sklearn`:\n",
    "```\n",
    "from sklearn import datasets\n",
    "iris = datasets.load_iris()\n",
    "```\n",
    "and perform a train-test split on the data."
   ]
  },
  {
   "cell_type": "code",
   "execution_count": 556,
   "metadata": {},
   "outputs": [],
   "source": [
    "%reset -f\n",
    "import numpy as np\n",
    "import pandas as pd\n",
    "\n",
    "import pyro\n",
    "import pyro.distributions as dist\n",
    "import pyro.optim as optim\n",
    "pyro.clear_param_store()\n",
    "\n",
    "from pyro.infer import SVI, Trace_ELBO\n",
    "from pyro.infer import Predictive\n",
    "from pyro.infer import autoguide\n",
    "\n",
    "import torch\n",
    "import torch.distributions.constraints as constraints\n",
    "\n",
    "from sklearn.model_selection import train_test_split\n",
    "from sklearn.preprocessing import MinMaxScaler\n",
    "from sklearn import datasets\n",
    "\n",
    "import matplotlib.pyplot as plt\n",
    "import seaborn as sns\n",
    "\n",
    "pyro.set_rng_seed(42)"
   ]
  },
  {
   "cell_type": "code",
   "execution_count": 557,
   "metadata": {},
   "outputs": [],
   "source": [
    "# loading dataset\n",
    "iris = datasets.load_iris()\n",
    "\n",
    "# dataset normalization\n",
    "iris_data = (iris.data - iris.data.min(axis=0))/(iris.data.max(axis=0)-iris.data.min(axis=0))"
   ]
  },
  {
   "cell_type": "code",
   "execution_count": 558,
   "metadata": {},
   "outputs": [],
   "source": [
    "iris_data = torch.tensor(iris_data,dtype=torch.double)\n",
    "iris_target = torch.tensor(iris.target,dtype=torch.double)\n",
    "\n",
    "X_train, X_test, y_train, y_test = train_test_split(iris_data, iris_target, test_size=0.20, \n",
    "                                                    random_state=42)"
   ]
  },
  {
   "cell_type": "markdown",
   "metadata": {},
   "source": [
    "2. Fit a multinomial bayesian logistic regression model on the four predictors petal length/width and sepal length/width. "
   ]
  },
  {
   "cell_type": "markdown",
   "metadata": {},
   "source": [
    "Here I used many distributions for guide and `Normal` gave the really good results in terms of overall accuracy and the accuracy among the classes so I choose it since it is simple and good enough."
   ]
  },
  {
   "cell_type": "code",
   "execution_count": 559,
   "metadata": {},
   "outputs": [
    {
     "name": "stdout",
     "output_type": "stream",
     "text": [
      "Step 0 : loss = 1.2370635518462298\n",
      "Step 1000 : loss = 1.1455528536850221\n",
      "Step 2000 : loss = 1.1989655280121418\n",
      "Step 3000 : loss = 1.152931614598667\n",
      "Step 4000 : loss = 1.0837780555629675\n",
      "Step 5000 : loss = 1.0553404055762223\n",
      "Step 6000 : loss = 1.0769323923155687\n",
      "Step 7000 : loss = 0.904513768036008\n",
      "Step 8000 : loss = 0.9975954085521458\n",
      "Step 9000 : loss = 1.014265091373862\n"
     ]
    },
    {
     "data": {
      "image/png": "[encoded data removed]",
      "text/plain": [
       "<Figure size 864x432 with 1 Axes>"
      ]
     },
     "metadata": {
      "needs_background": "light"
     },
     "output_type": "display_data"
    }
   ],
   "source": [
    "# model and guide functions\n",
    "def log_reg_model(x, y):\n",
    "    n_observations, n_predictors = x.shape\n",
    "    \n",
    "    # Here 4x3 w matrix will be learnt\n",
    "    w_zero = pyro.sample(\"w_zero\", dist.Normal(torch.zeros(n_predictors), torch.ones(n_predictors)))\n",
    "    b_zero = pyro.sample(\"b_zero\", dist.Normal(0.,1.))\n",
    "    \n",
    "    w_one = pyro.sample(\"w_one\", dist.Normal(torch.zeros(n_predictors), torch.ones(n_predictors)))\n",
    "    b_one = pyro.sample(\"b_one\", dist.Normal(0.,1.))\n",
    "    \n",
    "    w_two = pyro.sample(\"w_two\", dist.Normal(torch.zeros(n_predictors), torch.ones(n_predictors)))\n",
    "    b_two = pyro.sample(\"b_two\", dist.Normal(0.,1.))\n",
    "    \n",
    "    # non-linearity\n",
    "    yhat_zero = torch.sigmoid((w_zero*x).sum(dim=1) + b_zero)\n",
    "    yhat_one = torch.sigmoid((w_one*x).sum(dim=1) + b_one)\n",
    "    yhat_two = torch.sigmoid((w_two*x).sum(dim=1) + b_two)\n",
    "    \n",
    "    yhat = torch.stack((yhat_zero,yhat_one, yhat_two),dim=1)\n",
    "    \n",
    "    with pyro.plate(\"data\", n_observations):\n",
    "        # sampling 0-1 labels from Bernoulli distribution\n",
    "        y = pyro.sample(\"y\", dist.Categorical(yhat), obs=y)\n",
    "               \n",
    "def log_reg_guide(x, y=None):\n",
    "    \n",
    "    n_observations, n_predictors = x.shape\n",
    "    \n",
    "    w_loc_zero = pyro.param(\"w_loc_zero\", torch.rand(n_predictors))\n",
    "    w_scale_zero = pyro.param(\"w_scale_zero\", torch.rand(n_predictors), constraint=constraints.positive)\n",
    "    w_zero = pyro.sample(\"w_zero\", dist.Normal(w_loc_zero, w_scale_zero))\n",
    "    \n",
    "    b_loc_zero = pyro.param(\"b_loc_zero\", torch.rand(1))\n",
    "    b_scale_zero = pyro.param(\"b_scale_zero\", torch.rand(1), constraint=constraints.positive)\n",
    "    b_zero = pyro.sample(\"b_zero\", dist.Normal(b_loc_zero, b_scale_zero))\n",
    "    \n",
    "    w_loc_one = pyro.param(\"w_loc_one\", torch.rand(n_predictors))\n",
    "    w_scale_one = pyro.param(\"w_scale_one\", torch.rand(n_predictors), constraint=constraints.positive)\n",
    "    w_one = pyro.sample(\"w_one\", dist.Normal(w_loc_one, w_scale_one))\n",
    "    \n",
    "    b_loc_one = pyro.param(\"b_loc_one\", torch.rand(1))\n",
    "    b_scale_one = pyro.param(\"b_scale_one\", torch.rand(1), constraint=constraints.positive)\n",
    "    b_one = pyro.sample(\"b_one\", dist.Normal(b_loc_one, b_scale_one))\n",
    "    \n",
    "    w_loc_two = pyro.param(\"w_loc_two\", torch.rand(n_predictors))\n",
    "    w_scale_two = pyro.param(\"w_scale_two\", torch.rand(n_predictors), constraint=constraints.positive)\n",
    "    w_two = pyro.sample(\"w_two\", dist.Normal(w_loc_two, w_scale_two))\n",
    "    \n",
    "    b_loc_two = pyro.param(\"b_loc_two\", torch.rand(1))\n",
    "    b_scale_two = pyro.param(\"b_scale_two\", torch.rand(1), constraint=constraints.positive)\n",
    "    b_two = pyro.sample(\"b_two\", dist.Normal(b_loc_two, b_scale_two))\n",
    "\n",
    "#auto_guide_log = pyro.infer.autoguide.AutoDelta(log_reg_model)\n",
    "\n",
    "\n",
    "log_reg_svi = SVI(model=log_reg_model, guide=log_reg_guide, \n",
    "          optim=optim.ClippedAdam({'lr' : 0.0002}), \n",
    "          loss=Trace_ELBO()) \n",
    "\n",
    "losses = []\n",
    "for step in range(10000):\n",
    "    loss = log_reg_svi.step(X_train, y_train)/len(X_train)\n",
    "    losses.append(loss)\n",
    "    if step % 1000 == 0:\n",
    "        print(f\"Step {step} : loss = {loss}\")\n",
    "        \n",
    "fig, ax = plt.subplots(figsize=(12,6))\n",
    "ax.plot(losses)\n",
    "ax.set_title(\"ELBO loss\");"
   ]
  },
  {
   "cell_type": "code",
   "execution_count": 560,
   "metadata": {},
   "outputs": [],
   "source": [
    "# getting the inferred parameters\n",
    "param = list(pyro.get_param_store().keys())\n",
    "\n",
    "w_zero = pyro.get_param_store()[param[0]]\n",
    "w_one = pyro.get_param_store()[param[4]]\n",
    "w_two = pyro.get_param_store()[param[8]]\n",
    "b_zero = pyro.get_param_store()[param[2]]\n",
    "b_one = pyro.get_param_store()[param[6]]\n",
    "b_two = pyro.get_param_store()[param[10]]"
   ]
  },
  {
   "cell_type": "code",
   "execution_count": 561,
   "metadata": {},
   "outputs": [],
   "source": [
    "# prediction class which returns to output label as 0,1 or 2\n",
    "# by choosing the max probability\n",
    "\n",
    "def predict_class(x):\n",
    "    out_zero = torch.sigmoid((w_zero * x).sum(dim=1) + b_zero)\n",
    "    out_one = torch.sigmoid((w_one * x).sum(dim=1) + b_one)\n",
    "    out_two = torch.sigmoid((w_two * x).sum(dim=1) + b_two)\n",
    "    out = torch.stack((out_zero,out_one,out_two),dim=1)\n",
    "    return torch.argmax(out,dim=1)"
   ]
  },
  {
   "cell_type": "markdown",
   "metadata": {},
   "source": [
    "3. Evaluate your bayesian classifier on test data: compute the overall test accuracy and class-wise accuracy for the three different flower categories."
   ]
  },
  {
   "cell_type": "code",
   "execution_count": 562,
   "metadata": {},
   "outputs": [],
   "source": [
    "count_zero = 0\n",
    "count_one = 0\n",
    "count_two = 0\n",
    "for i,j in zip(predict_class(X_test) , y_test):\n",
    "    if j == 0 and i == 0:\n",
    "        count_zero +=1\n",
    "    elif j == 1 and i == 1:\n",
    "        count_one += 1\n",
    "    elif j == 2 and i == 2:\n",
    "        count_two += 1"
   ]
  },
  {
   "cell_type": "code",
   "execution_count": 563,
   "metadata": {},
   "outputs": [
    {
     "name": "stdout",
     "output_type": "stream",
     "text": [
      "Accuracy for class 0 100.00 %\n",
      "Accuracy for class 1 100.00 %\n",
      "Accuracy for class 2 90.91 %\n",
      "Overal test accuracy = 96.67%\n"
     ]
    }
   ],
   "source": [
    "correct_predictions_zero = (count_zero / len(y_test[y_test == 0])) *100\n",
    "correct_predictions_one = (count_one / len(y_test[y_test == 1])) *100\n",
    "correct_predictions_two = (count_two / len(y_test[y_test == 2])) *100\n",
    "\n",
    "correct_predictions_final = (predict_class(X_test) == y_test).sum().item()\n",
    "\n",
    "print(\"Accuracy for class 0 {:.2f}\".format(correct_predictions_zero),\"%\")\n",
    "print(\"Accuracy for class 1 {:.2f}\".format(correct_predictions_one),\"%\")\n",
    "print(\"Accuracy for class 2 {:.2f}\".format(correct_predictions_two),\"%\")\n",
    "\n",
    "print(f\"Overal test accuracy = {correct_predictions_final/len(X_test)*100:.2f}%\")"
   ]
  },
  {
   "cell_type": "markdown",
   "metadata": {},
   "source": [
    "Here, label 2 is misclassified once. It is normal because it is hard to classify label 1 and label 2. Overall accuracy and accuracy among the classes are good enough."
   ]
  }
 ],
 "metadata": {
  "kernelspec": {
   "display_name": "Python 3",
   "language": "python",
   "name": "python3"
  },
  "language_info": {
   "codemirror_mode": {
    "name": "ipython",
    "version": 3
   },
   "file_extension": ".py",
   "mimetype": "text/x-python",
   "name": "python",
   "nbconvert_exporter": "python",
   "pygments_lexer": "ipython3",
   "version": "3.7.7"
  }
 },
 "nbformat": 4,
 "nbformat_minor": 4
}
